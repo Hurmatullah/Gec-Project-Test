{
 "cells": [
  {
   "cell_type": "code",
   "execution_count": 3,
   "id": "18bd8904",
   "metadata": {},
   "outputs": [
    {
     "name": "stdout",
     "output_type": "stream",
     "text": [
      "Requirement already satisfied: zipfile36 in /usr/local/python/3.10.8/lib/python3.10/site-packages (0.1.3)\n",
      "Note: you may need to restart the kernel to use updated packages.\n"
     ]
    }
   ],
   "source": [
    "pip install zipfile36"
   ]
  },
  {
   "cell_type": "code",
   "execution_count": 5,
   "id": "8232e700",
   "metadata": {},
   "outputs": [],
   "source": [
    "import zipfile36 as zipfile"
   ]
  },
  {
   "cell_type": "code",
   "execution_count": 8,
   "id": "7636724c",
   "metadata": {},
   "outputs": [],
   "source": [
    "from zipfile36 import ZipFile"
   ]
  },
  {
   "cell_type": "code",
   "execution_count": 10,
   "id": "ab2d1945",
   "metadata": {},
   "outputs": [
    {
     "name": "stdout",
     "output_type": "stream",
     "text": [
      "File Name                                             Modified             Size\n",
      "dataset/                                       2023-10-29 04:00:10            0\n",
      "dataset/lang8.train.auto.bea19.m2              2019-01-10 07:21:22    151620666\n",
      "Extracting all the files now...\n",
      "Done!\n"
     ]
    }
   ],
   "source": [
    "file_name = \"/workspaces/Gec-Project-Test/dataset.zip\"\n",
    "  \n",
    "# opening the zip file in READ mode \n",
    "with ZipFile(file_name, 'r') as zip: \n",
    "    # printing all the contents of the zip file \n",
    "    zip.printdir() \n",
    "  \n",
    "    # extracting all the files \n",
    "    print('Extracting all the files now...') \n",
    "    zip.extractall() \n",
    "    print('Done!') "
   ]
  },
  {
   "cell_type": "code",
   "execution_count": null,
   "id": "a8040679",
   "metadata": {},
   "outputs": [],
   "source": []
  }
 ],
 "metadata": {
  "kernelspec": {
   "display_name": "Python 3 (ipykernel)",
   "language": "python",
   "name": "python3"
  },
  "language_info": {
   "codemirror_mode": {
    "name": "ipython",
    "version": 3
   },
   "file_extension": ".py",
   "mimetype": "text/x-python",
   "name": "python",
   "nbconvert_exporter": "python",
   "pygments_lexer": "ipython3",
   "version": "3.10.8"
  }
 },
 "nbformat": 4,
 "nbformat_minor": 5
}
