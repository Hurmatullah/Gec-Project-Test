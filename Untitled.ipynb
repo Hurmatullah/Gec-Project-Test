{
 "cells": [
  {
   "cell_type": "code",
   "execution_count": 1,
   "id": "4e6aafe1",
   "metadata": {},
   "outputs": [
    {
     "name": "stdout",
     "output_type": "stream",
     "text": [
      "Collecting zipfile36\n",
      "  Downloading zipfile36-0.1.3-py3-none-any.whl (20 kB)\n",
      "Installing collected packages: zipfile36\n",
      "Successfully installed zipfile36-0.1.3\n",
      "Note: you may need to restart the kernel to use updated packages.\n"
     ]
    },
    {
     "name": "stderr",
     "output_type": "stream",
     "text": [
      "\n",
      "[notice] A new release of pip is available: 23.2.1 -> 23.3.1\n",
      "[notice] To update, run: D:\\DeepLearningPractice\\venv\\Scripts\\python.exe -m pip install --upgrade pip\n"
     ]
    }
   ],
   "source": [
    "pip install zipfile36"
   ]
  },
  {
   "cell_type": "code",
   "execution_count": 3,
   "id": "fd8cdd20",
   "metadata": {},
   "outputs": [],
   "source": [
    "import zipfile36 as zipfile"
   ]
  },
  {
   "cell_type": "code",
   "execution_count": 5,
   "id": "b042273d",
   "metadata": {},
   "outputs": [],
   "source": [
    "with zipfile.ZipFile('dataset.zip', 'r') as zip_ref:\n",
    "    zip_ref.extractall('/')"
   ]
  },
  {
   "cell_type": "code",
   "execution_count": null,
   "id": "1b35b853",
   "metadata": {},
   "outputs": [],
   "source": []
  }
 ],
 "metadata": {
  "kernelspec": {
   "display_name": "venv",
   "language": "python",
   "name": "venv"
  },
  "language_info": {
   "codemirror_mode": {
    "name": "ipython",
    "version": 3
   },
   "file_extension": ".py",
   "mimetype": "text/x-python",
   "name": "python",
   "nbconvert_exporter": "python",
   "pygments_lexer": "ipython3",
   "version": "3.11.5"
  }
 },
 "nbformat": 4,
 "nbformat_minor": 5
}
